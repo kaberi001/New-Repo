{
 "cells": [
  {
   "cell_type": "code",
   "execution_count": 1,
   "metadata": {},
   "outputs": [],
   "source": [
    "import numpy as np\n",
    "import pandas as pd\n",
    "import matplotlib.pyplot as plt\n",
    "import seaborn as sns\n",
    "import warnings\n",
    "import statsmodels.api as sm\n",
    "warnings.filterwarnings ( \"ignore\" )\n",
    "from sklearn.linear_model import LinearRegression\n",
    "from sklearn.metrics import accuracy_score as acc\n",
    "from mlxtend.feature_selection import SequentialFeatureSelector as sfs\n",
    "insurance=pd.read_csv('Insurance_Marketing-Customer-Value-Analysis.csv')\n",
    "from statsmodels.compat import lzip\n",
    "from statsmodels.stats.outliers_influence import variance_inflation_factor\n",
    "pd.set_option('display.max_rows', None)\n",
    "pd.set_option('display.max_columns', None)\n",
    "from sklearn.linear_model import RidgeCV, LassoCV, Ridge, Lasso\n",
    "from sklearn.feature_selection import RFE\n",
    "from sklearn.metrics import r2_score, mean_squared_error\n",
    "from sklearn.ensemble import ExtraTreesRegressor"
   ]
  },
  {
   "cell_type": "code",
   "execution_count": 4,
   "metadata": {},
   "outputs": [
    {
     "data": {
      "text/html": [
       "<div>\n",
       "<style scoped>\n",
       "    .dataframe tbody tr th:only-of-type {\n",
       "        vertical-align: middle;\n",
       "    }\n",
       "\n",
       "    .dataframe tbody tr th {\n",
       "        vertical-align: top;\n",
       "    }\n",
       "\n",
       "    .dataframe thead th {\n",
       "        text-align: right;\n",
       "    }\n",
       "</style>\n",
       "<table border=\"1\" class=\"dataframe\">\n",
       "  <thead>\n",
       "    <tr style=\"text-align: right;\">\n",
       "      <th></th>\n",
       "      <th>Customer</th>\n",
       "      <th>State</th>\n",
       "      <th>Customer Lifetime Value</th>\n",
       "      <th>Response</th>\n",
       "      <th>Coverage</th>\n",
       "      <th>Education</th>\n",
       "      <th>Effective To Date</th>\n",
       "      <th>EmploymentStatus</th>\n",
       "      <th>Gender</th>\n",
       "      <th>Income</th>\n",
       "      <th>Location Code</th>\n",
       "      <th>Marital Status</th>\n",
       "      <th>Monthly Premium Auto</th>\n",
       "      <th>Months Since Last Claim</th>\n",
       "      <th>Months Since Policy Inception</th>\n",
       "      <th>Number of Open Complaints</th>\n",
       "      <th>Number of Policies</th>\n",
       "      <th>Policy Type</th>\n",
       "      <th>Policy</th>\n",
       "      <th>Renew Offer Type</th>\n",
       "      <th>Sales Channel</th>\n",
       "      <th>Total Claim Amount</th>\n",
       "      <th>Vehicle Class</th>\n",
       "      <th>Vehicle Size</th>\n",
       "    </tr>\n",
       "  </thead>\n",
       "  <tbody>\n",
       "    <tr>\n",
       "      <td>0</td>\n",
       "      <td>BU79786</td>\n",
       "      <td>Washington</td>\n",
       "      <td>2763.519279</td>\n",
       "      <td>No</td>\n",
       "      <td>Basic</td>\n",
       "      <td>Bachelor</td>\n",
       "      <td>2/24/2011</td>\n",
       "      <td>Employed</td>\n",
       "      <td>F</td>\n",
       "      <td>56274</td>\n",
       "      <td>Suburban</td>\n",
       "      <td>Married</td>\n",
       "      <td>69</td>\n",
       "      <td>32</td>\n",
       "      <td>5</td>\n",
       "      <td>0</td>\n",
       "      <td>1</td>\n",
       "      <td>Corporate Auto</td>\n",
       "      <td>Corporate L3</td>\n",
       "      <td>Offer1</td>\n",
       "      <td>Agent</td>\n",
       "      <td>384.811147</td>\n",
       "      <td>Two-Door Car</td>\n",
       "      <td>Medsize</td>\n",
       "    </tr>\n",
       "  </tbody>\n",
       "</table>\n",
       "</div>"
      ],
      "text/plain": [
       "  Customer       State  Customer Lifetime Value Response Coverage Education  \\\n",
       "0  BU79786  Washington              2763.519279       No    Basic  Bachelor   \n",
       "\n",
       "  Effective To Date EmploymentStatus Gender  Income Location Code  \\\n",
       "0         2/24/2011         Employed      F   56274      Suburban   \n",
       "\n",
       "  Marital Status  Monthly Premium Auto  Months Since Last Claim  \\\n",
       "0        Married                    69                       32   \n",
       "\n",
       "   Months Since Policy Inception  Number of Open Complaints  \\\n",
       "0                              5                          0   \n",
       "\n",
       "   Number of Policies     Policy Type        Policy Renew Offer Type  \\\n",
       "0                   1  Corporate Auto  Corporate L3           Offer1   \n",
       "\n",
       "  Sales Channel  Total Claim Amount Vehicle Class Vehicle Size  \n",
       "0         Agent          384.811147  Two-Door Car      Medsize  "
      ]
     },
     "execution_count": 4,
     "metadata": {},
     "output_type": "execute_result"
    }
   ],
   "source": [
    "\n",
    "insurance.head(1)"
   ]
  },
  {
   "cell_type": "code",
   "execution_count": 5,
   "metadata": {},
   "outputs": [
    {
     "data": {
      "text/plain": [
       "(9134, 24)"
      ]
     },
     "execution_count": 5,
     "metadata": {},
     "output_type": "execute_result"
    }
   ],
   "source": [
    "insurance.shape"
   ]
  },
  {
   "cell_type": "code",
   "execution_count": 17,
   "metadata": {},
   "outputs": [
    {
     "name": "stdout",
     "output_type": "stream",
     "text": [
      "Collecting mlxtend\n",
      "  Using cached https://files.pythonhosted.org/packages/64/e2/1610a86284029abcad0ac9bc86cb19f9787fe6448ede467188b2a5121bb4/mlxtend-0.17.2-py2.py3-none-any.whl\n",
      "Requirement already satisfied: scikit-learn>=0.20.3 in c:\\users\\kaveri\\anaconda3\\lib\\site-packages (from mlxtend) (0.22)\n",
      "Requirement already satisfied: setuptools in c:\\users\\kaveri\\anaconda3\\lib\\site-packages (from mlxtend) (46.1.3)\n",
      "Requirement already satisfied: joblib>=0.13.2 in c:\\users\\kaveri\\anaconda3\\lib\\site-packages (from mlxtend) (0.13.2)\n",
      "Requirement already satisfied: matplotlib>=3.0.0 in c:\\users\\kaveri\\anaconda3\\lib\\site-packages (from mlxtend) (3.1.1)\n",
      "Requirement already satisfied: pandas>=0.24.2 in c:\\users\\kaveri\\anaconda3\\lib\\site-packages (from mlxtend) (0.25.1)\n",
      "Requirement already satisfied: scipy>=1.2.1 in c:\\users\\kaveri\\anaconda3\\lib\\site-packages (from mlxtend) (1.3.1)\n",
      "Requirement already satisfied: numpy>=1.16.2 in c:\\users\\kaveri\\anaconda3\\lib\\site-packages (from mlxtend) (1.18.3)\n",
      "Requirement already satisfied: cycler>=0.10 in c:\\users\\kaveri\\anaconda3\\lib\\site-packages (from matplotlib>=3.0.0->mlxtend) (0.10.0)\n",
      "Requirement already satisfied: kiwisolver>=1.0.1 in c:\\users\\kaveri\\anaconda3\\lib\\site-packages (from matplotlib>=3.0.0->mlxtend) (1.1.0)\n",
      "Requirement already satisfied: pyparsing!=2.0.4,!=2.1.2,!=2.1.6,>=2.0.1 in c:\\users\\kaveri\\anaconda3\\lib\\site-packages (from matplotlib>=3.0.0->mlxtend) (2.4.2)\n",
      "Requirement already satisfied: python-dateutil>=2.1 in c:\\users\\kaveri\\anaconda3\\lib\\site-packages (from matplotlib>=3.0.0->mlxtend) (2.8.0)\n",
      "Requirement already satisfied: pytz>=2017.2 in c:\\users\\kaveri\\anaconda3\\lib\\site-packages (from pandas>=0.24.2->mlxtend) (2019.3)\n",
      "Requirement already satisfied: six in c:\\users\\kaveri\\anaconda3\\lib\\site-packages (from cycler>=0.10->matplotlib>=3.0.0->mlxtend) (1.12.0)\n",
      "Installing collected packages: mlxtend\n",
      "Successfully installed mlxtend-0.17.2\n",
      "Note: you may need to restart the kernel to use updated packages.\n"
     ]
    }
   ],
   "source": [
    "pip install mlxtend "
   ]
  },
  {
   "cell_type": "code",
   "execution_count": 3,
   "metadata": {},
   "outputs": [
    {
     "data": {
      "text/html": [
       "<div>\n",
       "<style scoped>\n",
       "    .dataframe tbody tr th:only-of-type {\n",
       "        vertical-align: middle;\n",
       "    }\n",
       "\n",
       "    .dataframe tbody tr th {\n",
       "        vertical-align: top;\n",
       "    }\n",
       "\n",
       "    .dataframe thead th {\n",
       "        text-align: right;\n",
       "    }\n",
       "</style>\n",
       "<table border=\"1\" class=\"dataframe\">\n",
       "  <thead>\n",
       "    <tr style=\"text-align: right;\">\n",
       "      <th></th>\n",
       "      <th>State</th>\n",
       "      <th>Response</th>\n",
       "      <th>Coverage</th>\n",
       "      <th>Education</th>\n",
       "      <th>EmploymentStatus</th>\n",
       "      <th>Gender</th>\n",
       "      <th>Income</th>\n",
       "      <th>Location Code</th>\n",
       "      <th>Marital Status</th>\n",
       "      <th>Months Since Last Claim</th>\n",
       "      <th>Months Since Policy Inception</th>\n",
       "      <th>Number of Open Complaints</th>\n",
       "      <th>Number of Policies</th>\n",
       "      <th>Policy Type</th>\n",
       "      <th>Policy</th>\n",
       "      <th>Renew Offer Type</th>\n",
       "      <th>Sales Channel</th>\n",
       "      <th>Vehicle Class</th>\n",
       "      <th>Vehicle Size</th>\n",
       "      <th>Customer Lifetime Value_boxcox</th>\n",
       "      <th>Monthly Premium Auto_boxcox</th>\n",
       "      <th>Total Claim Amount_boxcox</th>\n",
       "    </tr>\n",
       "  </thead>\n",
       "  <tbody>\n",
       "    <tr>\n",
       "      <td>0</td>\n",
       "      <td>Washington</td>\n",
       "      <td>No</td>\n",
       "      <td>Basic</td>\n",
       "      <td>Bachelor</td>\n",
       "      <td>Employed</td>\n",
       "      <td>F</td>\n",
       "      <td>56274</td>\n",
       "      <td>Suburban</td>\n",
       "      <td>Married</td>\n",
       "      <td>32</td>\n",
       "      <td>5</td>\n",
       "      <td>0</td>\n",
       "      <td>1</td>\n",
       "      <td>Corporate Auto</td>\n",
       "      <td>Corporate L3</td>\n",
       "      <td>Offer1</td>\n",
       "      <td>Agent</td>\n",
       "      <td>Two-Door Car</td>\n",
       "      <td>Medsize</td>\n",
       "      <td>2.703839</td>\n",
       "      <td>0.685347</td>\n",
       "      <td>33.035752</td>\n",
       "    </tr>\n",
       "  </tbody>\n",
       "</table>\n",
       "</div>"
      ],
      "text/plain": [
       "        State Response Coverage Education EmploymentStatus Gender  Income  \\\n",
       "0  Washington       No    Basic  Bachelor         Employed      F   56274   \n",
       "\n",
       "  Location Code Marital Status  Months Since Last Claim  \\\n",
       "0      Suburban        Married                       32   \n",
       "\n",
       "   Months Since Policy Inception  Number of Open Complaints  \\\n",
       "0                              5                          0   \n",
       "\n",
       "   Number of Policies     Policy Type        Policy Renew Offer Type  \\\n",
       "0                   1  Corporate Auto  Corporate L3           Offer1   \n",
       "\n",
       "  Sales Channel Vehicle Class Vehicle Size  Customer Lifetime Value_boxcox  \\\n",
       "0         Agent  Two-Door Car      Medsize                        2.703839   \n",
       "\n",
       "   Monthly Premium Auto_boxcox  Total Claim Amount_boxcox  \n",
       "0                     0.685347                  33.035752  "
      ]
     },
     "execution_count": 3,
     "metadata": {},
     "output_type": "execute_result"
    }
   ],
   "source": [
    "\n",
    "data1=pd.read_csv('Insurance data for model building Final.csv')\n",
    "data1.head(1)\n",
    "ins=pd.read_csv('Insurance.csv')\n",
    "ins = ins.drop(['Customer Lifetime Value', 'Monthly Premium Auto', 'Total Claim Amount'], axis = 1)\n",
    "ins=ins.join(data1['Customer Lifetime Value_boxcox'])\n",
    "ins=ins.join(data1['Monthly Premium Auto_boxcox'])\n",
    "ins=ins.join(data1['Total Claim Amount_boxcox'])\n",
    "ins.drop(['Customer','Effective To Date'],axis=1,inplace=True)\n",
    "ins.head(1)"
   ]
  },
  {
   "cell_type": "code",
   "execution_count": 4,
   "metadata": {},
   "outputs": [],
   "source": [
    "\n",
    "ins['Coverage'] = ins['Coverage'].replace({'Basic':0, 'Extended':1, 'Premium': 2})\n",
    "ins['Education'] = ins['Education'].replace({'High School or Below':0, 'College':1, 'Bachelor': 2, 'Master': 3, 'Doctor': 4})\n",
    "ins['Marital Status'] = ins['Marital Status'].replace({'Married':0, 'Single':1, 'Divorced': 2})\n",
    "ins['Renew Offer Type'] = ins['Renew Offer Type'].replace({'Offer1':0, 'Offer2':1, 'Offer3': 2, 'Offer4': 3})\n",
    "ins['Vehicle Class'] = ins['Vehicle Class'].replace({'Two-Door Car':0, 'Four-Door Car':1, 'SUV': 2, 'Luxury SUV': 3, \n",
    "                                                   'Sports Car': 4, 'Luxury Car': 5})\n",
    "ins['State'] = ins['State'].replace({'Washington':1, 'Arizona':2, 'Nevada':3, 'California':4, 'Oregon':5})\n",
    "ins['Response'] = ins['Response'].replace({'Yes':1, 'No':0})\n",
    "ins['Gender'] = ins['Gender'].replace({'M':1, 'F':0})\n",
    "ins['EmploymentStatus'] = ins['EmploymentStatus'].replace({'Unemployed':0, 'Disabled':1, 'Retired':2, \n",
    "                                                                 'Medical Leave':3,'Employed':4})\n",
    "ins['Location Code'] = ins['Location Code'].replace({'Rural':0, 'Suburban':1, 'Urban':2})\n",
    "ins['Policy Type'] = ins['Policy Type'].replace({'Corporate Auto':0, 'Personal Auto':1, 'Special Auto':2})\n",
    "ins['Sales Channel'] = ins['Sales Channel'].replace({'Agent':0, 'Call Center':1, 'Web':2,'Branch':3})\n",
    "ins['Vehicle Size'] = ins['Vehicle Size'].replace({'Small':0, 'Medsize':1, 'Large':2})\n",
    "ins['Policy'] = ins['Policy'].replace({'Corporate L1':0, 'Corporate L2':1, 'Corporate L3':2, \n",
    "                                                                 'Personal L1':3, 'Personal L2':4, 'Personal L3':5,\n",
    "                                            'Special L1':6, 'Special L2':7, 'Special L3':8})"
   ]
  },
  {
   "cell_type": "code",
   "execution_count": 5,
   "metadata": {},
   "outputs": [
    {
     "data": {
      "text/plain": [
       "(9134, 22)"
      ]
     },
     "execution_count": 5,
     "metadata": {},
     "output_type": "execute_result"
    }
   ],
   "source": [
    "X=ins.drop(['Customer Lifetime Value_boxcox'],axis=1)\n",
    "y=ins['Customer Lifetime Value_boxcox']\n",
    "ins.shape"
   ]
  },
  {
   "cell_type": "raw",
   "metadata": {},
   "source": [
    "Below are the feature selection Method We have used:-\n",
    "1) DOMAN\n",
    "2) P VALUE\n",
    "3) FOWARD\n",
    "4) BACKWARD\n",
    "5) STEP WISE REGRESSION\n",
    "6) RECURSIVE FEATURE ELIMINATION\n",
    "7) REGULARIZATION\n",
    "8) VIF"
   ]
  },
  {
   "cell_type": "code",
   "execution_count": 31,
   "metadata": {},
   "outputs": [
    {
     "data": {
      "text/html": [
       "<table class=\"simpletable\">\n",
       "<caption>OLS Regression Results</caption>\n",
       "<tr>\n",
       "  <th>Dep. Variable:</th>    <td>Customer Lifetime Value_boxcox</td> <th>  R-squared:         </th>  <td>   0.295</td> \n",
       "</tr>\n",
       "<tr>\n",
       "  <th>Model:</th>                          <td>OLS</td>              <th>  Adj. R-squared:    </th>  <td>   0.294</td> \n",
       "</tr>\n",
       "<tr>\n",
       "  <th>Method:</th>                    <td>Least Squares</td>         <th>  F-statistic:       </th>  <td>   181.9</td> \n",
       "</tr>\n",
       "<tr>\n",
       "  <th>Date:</th>                    <td>Wed, 29 Apr 2020</td>        <th>  Prob (F-statistic):</th>   <td>  0.00</td>  \n",
       "</tr>\n",
       "<tr>\n",
       "  <th>Time:</th>                        <td>17:04:22</td>            <th>  Log-Likelihood:    </th>  <td>  20471.</td> \n",
       "</tr>\n",
       "<tr>\n",
       "  <th>No. Observations:</th>             <td>  9134</td>             <th>  AIC:               </th> <td>-4.090e+04</td>\n",
       "</tr>\n",
       "<tr>\n",
       "  <th>Df Residuals:</th>                 <td>  9112</td>             <th>  BIC:               </th> <td>-4.074e+04</td>\n",
       "</tr>\n",
       "<tr>\n",
       "  <th>Df Model:</th>                     <td>    21</td>             <th>                     </th>      <td> </td>    \n",
       "</tr>\n",
       "<tr>\n",
       "  <th>Covariance Type:</th>             <td>nonrobust</td>           <th>                     </th>      <td> </td>    \n",
       "</tr>\n",
       "</table>\n",
       "<table class=\"simpletable\">\n",
       "<tr>\n",
       "                <td></td>                   <th>coef</th>     <th>std err</th>      <th>t</th>      <th>P>|t|</th>  <th>[0.025</th>    <th>0.975]</th>  \n",
       "</tr>\n",
       "<tr>\n",
       "  <th>const</th>                         <td>  -19.9935</td> <td>    0.887</td> <td>  -22.550</td> <td> 0.000</td> <td>  -21.731</td> <td>  -18.255</td>\n",
       "</tr>\n",
       "<tr>\n",
       "  <th>State</th>                         <td>    0.0003</td> <td>    0.000</td> <td>    1.312</td> <td> 0.189</td> <td>   -0.000</td> <td>    0.001</td>\n",
       "</tr>\n",
       "<tr>\n",
       "  <th>Response</th>                      <td>   -0.0016</td> <td>    0.001</td> <td>   -2.005</td> <td> 0.045</td> <td>   -0.003</td> <td>-3.54e-05</td>\n",
       "</tr>\n",
       "<tr>\n",
       "  <th>Coverage</th>                      <td>   -0.0005</td> <td>    0.001</td> <td>   -0.889</td> <td> 0.374</td> <td>   -0.002</td> <td>    0.001</td>\n",
       "</tr>\n",
       "<tr>\n",
       "  <th>Education</th>                     <td>   -0.0004</td> <td>    0.000</td> <td>   -1.611</td> <td> 0.107</td> <td>   -0.001</td> <td> 8.85e-05</td>\n",
       "</tr>\n",
       "<tr>\n",
       "  <th>EmploymentStatus</th>              <td>    0.0011</td> <td>    0.000</td> <td>    4.056</td> <td> 0.000</td> <td>    0.001</td> <td>    0.002</td>\n",
       "</tr>\n",
       "<tr>\n",
       "  <th>Gender</th>                        <td>   -0.0008</td> <td>    0.001</td> <td>   -1.384</td> <td> 0.166</td> <td>   -0.002</td> <td>    0.000</td>\n",
       "</tr>\n",
       "<tr>\n",
       "  <th>Income</th>                        <td>  2.22e-08</td> <td> 1.51e-08</td> <td>    1.470</td> <td> 0.142</td> <td>-7.41e-09</td> <td> 5.18e-08</td>\n",
       "</tr>\n",
       "<tr>\n",
       "  <th>Location Code</th>                 <td>   -0.0001</td> <td>    0.001</td> <td>   -0.196</td> <td> 0.845</td> <td>   -0.001</td> <td>    0.001</td>\n",
       "</tr>\n",
       "<tr>\n",
       "  <th>Marital Status</th>                <td>   -0.0002</td> <td>    0.000</td> <td>   -0.488</td> <td> 0.626</td> <td>   -0.001</td> <td>    0.001</td>\n",
       "</tr>\n",
       "<tr>\n",
       "  <th>Months Since Last Claim</th>       <td> 2.702e-05</td> <td> 2.68e-05</td> <td>    1.006</td> <td> 0.314</td> <td>-2.56e-05</td> <td> 7.96e-05</td>\n",
       "</tr>\n",
       "<tr>\n",
       "  <th>Months Since Policy Inception</th> <td>-9.032e-06</td> <td> 9.72e-06</td> <td>   -0.929</td> <td> 0.353</td> <td>-2.81e-05</td> <td>    1e-05</td>\n",
       "</tr>\n",
       "<tr>\n",
       "  <th>Number of Open Complaints</th>     <td>   -0.0014</td> <td>    0.000</td> <td>   -4.781</td> <td> 0.000</td> <td>   -0.002</td> <td>   -0.001</td>\n",
       "</tr>\n",
       "<tr>\n",
       "  <th>Number of Policies</th>            <td>    0.0033</td> <td>    0.000</td> <td>   28.692</td> <td> 0.000</td> <td>    0.003</td> <td>    0.003</td>\n",
       "</tr>\n",
       "<tr>\n",
       "  <th>Policy Type</th>                   <td>    0.0020</td> <td>    0.001</td> <td>    1.643</td> <td> 0.101</td> <td>   -0.000</td> <td>    0.004</td>\n",
       "</tr>\n",
       "<tr>\n",
       "  <th>Policy</th>                        <td>   -0.0003</td> <td>    0.000</td> <td>   -0.770</td> <td> 0.441</td> <td>   -0.001</td> <td>    0.000</td>\n",
       "</tr>\n",
       "<tr>\n",
       "  <th>Renew Offer Type</th>              <td>   -0.0018</td> <td>    0.000</td> <td>   -6.407</td> <td> 0.000</td> <td>   -0.002</td> <td>   -0.001</td>\n",
       "</tr>\n",
       "<tr>\n",
       "  <th>Sales Channel</th>                 <td>   -0.0002</td> <td>    0.000</td> <td>   -0.816</td> <td> 0.415</td> <td>   -0.001</td> <td>    0.000</td>\n",
       "</tr>\n",
       "<tr>\n",
       "  <th>Vehicle Class</th>                 <td>    0.0011</td> <td>    0.000</td> <td>    2.746</td> <td> 0.006</td> <td>    0.000</td> <td>    0.002</td>\n",
       "</tr>\n",
       "<tr>\n",
       "  <th>Vehicle Size</th>                  <td>   -0.0009</td> <td>    0.001</td> <td>   -1.793</td> <td> 0.073</td> <td>   -0.002</td> <td> 8.51e-05</td>\n",
       "</tr>\n",
       "<tr>\n",
       "  <th>Monthly Premium Auto_boxcox</th>   <td>   33.1461</td> <td>    1.294</td> <td>   25.609</td> <td> 0.000</td> <td>   30.609</td> <td>   35.683</td>\n",
       "</tr>\n",
       "<tr>\n",
       "  <th>Total Claim Amount_boxcox</th>     <td> 1.932e-05</td> <td> 3.47e-05</td> <td>    0.557</td> <td> 0.578</td> <td>-4.87e-05</td> <td> 8.74e-05</td>\n",
       "</tr>\n",
       "</table>\n",
       "<table class=\"simpletable\">\n",
       "<tr>\n",
       "  <th>Omnibus:</th>       <td>871.514</td> <th>  Durbin-Watson:     </th> <td>   2.017</td> \n",
       "</tr>\n",
       "<tr>\n",
       "  <th>Prob(Omnibus):</th> <td> 0.000</td>  <th>  Jarque-Bera (JB):  </th> <td>1148.161</td> \n",
       "</tr>\n",
       "<tr>\n",
       "  <th>Skew:</th>          <td> 0.868</td>  <th>  Prob(JB):          </th> <td>4.79e-250</td>\n",
       "</tr>\n",
       "<tr>\n",
       "  <th>Kurtosis:</th>      <td> 2.982</td>  <th>  Cond. No.          </th> <td>2.82e+08</td> \n",
       "</tr>\n",
       "</table><br/><br/>Warnings:<br/>[1] Standard Errors assume that the covariance matrix of the errors is correctly specified.<br/>[2] The condition number is large, 2.82e+08. This might indicate that there are<br/>strong multicollinearity or other numerical problems."
      ],
      "text/plain": [
       "<class 'statsmodels.iolib.summary.Summary'>\n",
       "\"\"\"\n",
       "                                  OLS Regression Results                                  \n",
       "==========================================================================================\n",
       "Dep. Variable:     Customer Lifetime Value_boxcox   R-squared:                       0.295\n",
       "Model:                                        OLS   Adj. R-squared:                  0.294\n",
       "Method:                             Least Squares   F-statistic:                     181.9\n",
       "Date:                            Wed, 29 Apr 2020   Prob (F-statistic):               0.00\n",
       "Time:                                    17:04:22   Log-Likelihood:                 20471.\n",
       "No. Observations:                            9134   AIC:                        -4.090e+04\n",
       "Df Residuals:                                9112   BIC:                        -4.074e+04\n",
       "Df Model:                                      21                                         \n",
       "Covariance Type:                        nonrobust                                         \n",
       "=================================================================================================\n",
       "                                    coef    std err          t      P>|t|      [0.025      0.975]\n",
       "-------------------------------------------------------------------------------------------------\n",
       "const                           -19.9935      0.887    -22.550      0.000     -21.731     -18.255\n",
       "State                             0.0003      0.000      1.312      0.189      -0.000       0.001\n",
       "Response                         -0.0016      0.001     -2.005      0.045      -0.003   -3.54e-05\n",
       "Coverage                         -0.0005      0.001     -0.889      0.374      -0.002       0.001\n",
       "Education                        -0.0004      0.000     -1.611      0.107      -0.001    8.85e-05\n",
       "EmploymentStatus                  0.0011      0.000      4.056      0.000       0.001       0.002\n",
       "Gender                           -0.0008      0.001     -1.384      0.166      -0.002       0.000\n",
       "Income                          2.22e-08   1.51e-08      1.470      0.142   -7.41e-09    5.18e-08\n",
       "Location Code                    -0.0001      0.001     -0.196      0.845      -0.001       0.001\n",
       "Marital Status                   -0.0002      0.000     -0.488      0.626      -0.001       0.001\n",
       "Months Since Last Claim        2.702e-05   2.68e-05      1.006      0.314   -2.56e-05    7.96e-05\n",
       "Months Since Policy Inception -9.032e-06   9.72e-06     -0.929      0.353   -2.81e-05       1e-05\n",
       "Number of Open Complaints        -0.0014      0.000     -4.781      0.000      -0.002      -0.001\n",
       "Number of Policies                0.0033      0.000     28.692      0.000       0.003       0.003\n",
       "Policy Type                       0.0020      0.001      1.643      0.101      -0.000       0.004\n",
       "Policy                           -0.0003      0.000     -0.770      0.441      -0.001       0.000\n",
       "Renew Offer Type                 -0.0018      0.000     -6.407      0.000      -0.002      -0.001\n",
       "Sales Channel                    -0.0002      0.000     -0.816      0.415      -0.001       0.000\n",
       "Vehicle Class                     0.0011      0.000      2.746      0.006       0.000       0.002\n",
       "Vehicle Size                     -0.0009      0.001     -1.793      0.073      -0.002    8.51e-05\n",
       "Monthly Premium Auto_boxcox      33.1461      1.294     25.609      0.000      30.609      35.683\n",
       "Total Claim Amount_boxcox      1.932e-05   3.47e-05      0.557      0.578   -4.87e-05    8.74e-05\n",
       "==============================================================================\n",
       "Omnibus:                      871.514   Durbin-Watson:                   2.017\n",
       "Prob(Omnibus):                  0.000   Jarque-Bera (JB):             1148.161\n",
       "Skew:                           0.868   Prob(JB):                    4.79e-250\n",
       "Kurtosis:                       2.982   Cond. No.                     2.82e+08\n",
       "==============================================================================\n",
       "\n",
       "Warnings:\n",
       "[1] Standard Errors assume that the covariance matrix of the errors is correctly specified.\n",
       "[2] The condition number is large, 2.82e+08. This might indicate that there are\n",
       "strong multicollinearity or other numerical problems.\n",
       "\"\"\""
      ]
     },
     "execution_count": 31,
     "metadata": {},
     "output_type": "execute_result"
    }
   ],
   "source": [
    "import statsmodels.api as sm\n",
    "Xc = sm.add_constant(X)\n",
    "result = sm.OLS(y, Xc).fit()\n",
    "result.summary()"
   ]
  },
  {
   "cell_type": "markdown",
   "metadata": {},
   "source": [
    "## 1. FORWARD ELIMINATION "
   ]
  },
  {
   "cell_type": "raw",
   "metadata": {},
   "source": [
    " 1)Adding one feature or x variable at one time \n",
    " 2) Verify theAdj R2 , If increases then addanother variable else stop\n",
    " 3) At first we create a null model where y=Beta0( with no X feature)\n",
    " 4) One by one add new X if Adj R2 increases KEEP IT ELSE DROP, then add a different X an verify Adj R2 with this X"
   ]
  },
  {
   "cell_type": "code",
   "execution_count": 23,
   "metadata": {},
   "outputs": [
    {
     "data": {
      "application/javascript": [
       "\n",
       "        if (window._pyforest_update_imports_cell) { window._pyforest_update_imports_cell('from sklearn.model_selection import train_test_split'); }\n",
       "    "
      ],
      "text/plain": [
       "<IPython.core.display.Javascript object>"
      ]
     },
     "metadata": {},
     "output_type": "display_data"
    },
    {
     "name": "stderr",
     "output_type": "stream",
     "text": [
      "[Parallel(n_jobs=1)]: Using backend SequentialBackend with 1 concurrent workers.\n",
      "[Parallel(n_jobs=1)]: Done   1 out of   1 | elapsed:    0.0s remaining:    0.0s\n",
      "[Parallel(n_jobs=1)]: Done  21 out of  21 | elapsed:    0.2s finished\n",
      "\n",
      "[2020-04-29 16:26:02] Features: 1/12 -- score: 0.21640947639280417[Parallel(n_jobs=1)]: Using backend SequentialBackend with 1 concurrent workers.\n",
      "[Parallel(n_jobs=1)]: Done   1 out of   1 | elapsed:    0.0s remaining:    0.0s\n",
      "[Parallel(n_jobs=1)]: Done  20 out of  20 | elapsed:    0.2s finished\n",
      "\n",
      "[2020-04-29 16:26:02] Features: 2/12 -- score: 0.28121808552873545[Parallel(n_jobs=1)]: Using backend SequentialBackend with 1 concurrent workers.\n",
      "[Parallel(n_jobs=1)]: Done   1 out of   1 | elapsed:    0.0s remaining:    0.0s\n",
      "[Parallel(n_jobs=1)]: Done  19 out of  19 | elapsed:    0.2s finished\n",
      "\n",
      "[2020-04-29 16:26:02] Features: 3/12 -- score: 0.28503580581543764[Parallel(n_jobs=1)]: Using backend SequentialBackend with 1 concurrent workers.\n",
      "[Parallel(n_jobs=1)]: Done   1 out of   1 | elapsed:    0.0s remaining:    0.0s\n",
      "[Parallel(n_jobs=1)]: Done  18 out of  18 | elapsed:    0.2s finished\n",
      "\n",
      "[2020-04-29 16:26:02] Features: 4/12 -- score: 0.2868684263388816[Parallel(n_jobs=1)]: Using backend SequentialBackend with 1 concurrent workers.\n",
      "[Parallel(n_jobs=1)]: Done   1 out of   1 | elapsed:    0.0s remaining:    0.0s\n",
      "[Parallel(n_jobs=1)]: Done  17 out of  17 | elapsed:    0.2s finished\n",
      "\n",
      "[2020-04-29 16:26:03] Features: 5/12 -- score: 0.288512876495155[Parallel(n_jobs=1)]: Using backend SequentialBackend with 1 concurrent workers.\n",
      "[Parallel(n_jobs=1)]: Done   1 out of   1 | elapsed:    0.0s remaining:    0.0s\n",
      "[Parallel(n_jobs=1)]: Done  16 out of  16 | elapsed:    0.2s finished\n",
      "\n",
      "[2020-04-29 16:26:03] Features: 6/12 -- score: 0.28979309333386877[Parallel(n_jobs=1)]: Using backend SequentialBackend with 1 concurrent workers.\n",
      "[Parallel(n_jobs=1)]: Done   1 out of   1 | elapsed:    0.0s remaining:    0.0s\n",
      "[Parallel(n_jobs=1)]: Done  15 out of  15 | elapsed:    0.2s finished\n",
      "\n",
      "[2020-04-29 16:26:03] Features: 7/12 -- score: 0.29029192531847836[Parallel(n_jobs=1)]: Using backend SequentialBackend with 1 concurrent workers.\n",
      "[Parallel(n_jobs=1)]: Done   1 out of   1 | elapsed:    0.0s remaining:    0.0s\n",
      "[Parallel(n_jobs=1)]: Done  14 out of  14 | elapsed:    0.2s finished\n",
      "\n",
      "[2020-04-29 16:26:03] Features: 8/12 -- score: 0.2904335619811828[Parallel(n_jobs=1)]: Using backend SequentialBackend with 1 concurrent workers.\n",
      "[Parallel(n_jobs=1)]: Done   1 out of   1 | elapsed:    0.0s remaining:    0.0s\n",
      "[Parallel(n_jobs=1)]: Done  13 out of  13 | elapsed:    0.1s finished\n",
      "\n",
      "[2020-04-29 16:26:04] Features: 9/12 -- score: 0.290560923225316[Parallel(n_jobs=1)]: Using backend SequentialBackend with 1 concurrent workers.\n",
      "[Parallel(n_jobs=1)]: Done   1 out of   1 | elapsed:    0.0s remaining:    0.0s\n",
      "[Parallel(n_jobs=1)]: Done  12 out of  12 | elapsed:    0.2s finished\n",
      "\n",
      "[2020-04-29 16:26:04] Features: 10/12 -- score: 0.2907054795100568[Parallel(n_jobs=1)]: Using backend SequentialBackend with 1 concurrent workers.\n",
      "[Parallel(n_jobs=1)]: Done   1 out of   1 | elapsed:    0.0s remaining:    0.0s\n",
      "[Parallel(n_jobs=1)]: Done  11 out of  11 | elapsed:    0.2s finished\n",
      "\n",
      "[2020-04-29 16:26:04] Features: 11/12 -- score: 0.29076067278698475[Parallel(n_jobs=1)]: Using backend SequentialBackend with 1 concurrent workers.\n",
      "[Parallel(n_jobs=1)]: Done   1 out of   1 | elapsed:    0.0s remaining:    0.0s\n",
      "[Parallel(n_jobs=1)]: Done  10 out of  10 | elapsed:    0.2s finished\n",
      "\n",
      "[2020-04-29 16:26:05] Features: 12/12 -- score: 0.2908119815871498"
     ]
    }
   ],
   "source": [
    "\n",
    "clf = LinearRegression()\n",
    "X_train, X_test, y_train, y_test = train_test_split(X,y, test_size = 0.3, random_state = 0)\n",
    "# Build step forward feature selection\n",
    "sfs1 = sfs(clf,k_features = 12,forward=True,\n",
    "           floating=False, scoring='r2',\n",
    "           verbose=2,\n",
    "           cv=5)\n",
    "\n",
    "# Perform SFFS\n",
    "sfs1 = sfs1.fit(X_train, y_train)"
   ]
  },
  {
   "cell_type": "raw",
   "metadata": {},
   "source": [
    "Features: 12/21 -- score: 0.2908119815871498"
   ]
  },
  {
   "cell_type": "code",
   "execution_count": 25,
   "metadata": {},
   "outputs": [
    {
     "name": "stdout",
     "output_type": "stream",
     "text": [
      "[0, 1, 4, 8, 11, 12, 13, 14, 15, 16, 17, 19]\n",
      "Index(['State', 'Response', 'Coverage', 'Education', 'EmploymentStatus',\n",
      "       'Gender', 'Income', 'Location Code', 'Marital Status',\n",
      "       'Months Since Last Claim', 'Months Since Policy Inception',\n",
      "       'Number of Open Complaints', 'Number of Policies', 'Policy Type',\n",
      "       'Policy', 'Renew Offer Type', 'Sales Channel', 'Vehicle Class',\n",
      "       'Vehicle Size', 'Monthly Premium Auto_boxcox',\n",
      "       'Total Claim Amount_boxcox'],\n",
      "      dtype='object')\n"
     ]
    }
   ],
   "source": [
    "# Which features?\n",
    "feat_cols = list(sfs1.k_feature_idx_)\n",
    "print(feat_cols)\n",
    "print(X.columns)\n",
    "So, most important features according to the forward selection method is 'State','Response',"
   ]
  },
  {
   "cell_type": "raw",
   "metadata": {},
   "source": [
    "So, most important features according to the forward selection method is 'State','Response',"
   ]
  },
  {
   "cell_type": "markdown",
   "metadata": {},
   "source": [
    "## 2. Backward elimination"
   ]
  },
  {
   "cell_type": "raw",
   "metadata": {},
   "source": [
    "Backward Elimination: In backward elimination, we start with all the features and removes the least significant feature at each iteration which improves the performance of the model. We repeat this until no improvement is observed on removal of features."
   ]
  },
  {
   "cell_type": "code",
   "execution_count": 26,
   "metadata": {
    "scrolled": true
   },
   "outputs": [
    {
     "name": "stdout",
     "output_type": "stream",
     "text": [
      "['Response', 'EmploymentStatus', 'Number of Open Complaints', 'Number of Policies', 'Policy Type', 'Renew Offer Type', 'Vehicle Class', 'Monthly Premium Auto_boxcox']\n"
     ]
    }
   ],
   "source": [
    "#Backward Elimination\n",
    "cols = list(X.columns)\n",
    "pmax = 1\n",
    "while (len(cols)>0):\n",
    "    p= []\n",
    "    X_1 = X[cols]\n",
    "    X_1 = sm.add_constant(X_1)\n",
    "    model = sm.OLS(y,X_1).fit()\n",
    "    p = pd.Series(model.pvalues.values[1:],index = cols)      \n",
    "    pmax = max(p)\n",
    "    feature_with_p_max = p.idxmax()\n",
    "    if(pmax>0.05):\n",
    "        cols.remove(feature_with_p_max)\n",
    "    else:\n",
    "        break\n",
    "selected_features_BE = cols\n",
    "print(selected_features_BE)"
   ]
  },
  {
   "cell_type": "markdown",
   "metadata": {},
   "source": [
    "## 3. RFE - Recursive Feature Elimination"
   ]
  },
  {
   "cell_type": "code",
   "execution_count": 54,
   "metadata": {},
   "outputs": [
    {
     "name": "stdout",
     "output_type": "stream",
     "text": [
      "[False  True False False  True  True False False False False False  True\n",
      "  True  True False  True False  True  True  True False]\n",
      "[ 5  1  2  3  1  1 12  9  7  8 11  1  1  1  4  1  6  1  1  1 10]\n"
     ]
    }
   ],
   "source": [
    "#Initializing RFE model\n",
    "model = LinearRegression()\n",
    "rfe = RFE(model, )\n",
    "#Transforming data using RFE\n",
    "X_rfe = rfe.fit_transform(X,y)  \n",
    "#Fitting the data to model\n",
    "model.fit(X_rfe,y)\n",
    "print(rfe.support_)\n",
    "print(rfe.ranking_)"
   ]
  },
  {
   "cell_type": "markdown",
   "metadata": {},
   "source": [
    "## 4. Lasso "
   ]
  },
  {
   "cell_type": "raw",
   "metadata": {},
   "source": [
    "Lasso regression performs L1 regularization which adds penalty equivalent to absolute value of the magnitude of coefficients.\n",
    "Ridge regression performs L2 regularization which adds penalty equivalent to square of the magnitude of coefficients."
   ]
  },
  {
   "cell_type": "markdown",
   "metadata": {},
   "source": [
    "### Find ideal alpha for Lasso and then see the score and coefficient"
   ]
  },
  {
   "cell_type": "code",
   "execution_count": 90,
   "metadata": {},
   "outputs": [
    {
     "name": "stdout",
     "output_type": "stream",
     "text": [
      "Best alpha using built-in LassoCV: 0.044747\n",
      "Best score using built-in LassoCV: 0.045783\n"
     ]
    }
   ],
   "source": [
    "lasso=LassoCV()\n",
    "lasso.fit(X,y)\n",
    "print(\"Best alpha using built-in LassoCV: %f\" % lasso.alpha_)\n",
    "print(\"Best score using built-in LassoCV: %f\" %lasso.score(X,y))\n"
   ]
  },
  {
   "cell_type": "code",
   "execution_count": 93,
   "metadata": {},
   "outputs": [
    {
     "data": {
      "text/plain": [
       "Text(0.5, 1.0, 'Feature importance using Lasso Model')"
      ]
     },
     "execution_count": 93,
     "metadata": {},
     "output_type": "execute_result"
    },
    {
     "data": {
      "image/png": "[encoded data removed]",
      "text/plain": [
       "<Figure size 576x720 with 1 Axes>"
      ]
     },
     "metadata": {
      "needs_background": "light"
     },
     "output_type": "display_data"
    }
   ],
   "source": [
    "lasso_coef = pd.Series(lasso.coef_, index = X.columns)\n",
    "lasso_coef = lasso_coef.sort_values()\n",
    "import matplotlib\n",
    "matplotlib.rcParams['figure.figsize'] = (8.0, 10.0)\n",
    "lasso_coef.plot(kind = \"barh\")\n",
    "plt.title(\"Feature importance using Lasso Model\")"
   ]
  },
  {
   "cell_type": "raw",
   "metadata": {},
   "source": [
    "INFERENCE : Lasso model has taken only Income feature into consideration"
   ]
  },
  {
   "cell_type": "markdown",
   "metadata": {},
   "source": [
    "## 5.Ridge"
   ]
  },
  {
   "cell_type": "markdown",
   "metadata": {},
   "source": [
    "### Find ideal alpha for Ridge and then see the score and coefficient"
   ]
  },
  {
   "cell_type": "code",
   "execution_count": 100,
   "metadata": {},
   "outputs": [
    {
     "name": "stdout",
     "output_type": "stream",
     "text": [
      "Best alpha using built-in RidgeCV: 0.100000\n",
      "Best score using built-in RidgeCV: 0.245091\n"
     ]
    }
   ],
   "source": [
    "ridge=RidgeCV()\n",
    "ridge.fit(X,y)\n",
    "print(\"Best alpha using built-in RidgeCV: %f\" % ridge.alpha_)\n",
    "print(\"Best score using built-in RidgeCV: %f\" %ridge.score(X,y))\n",
    "ridge_coef = pd.Series(ridge.coef_, index = X.columns)\n"
   ]
  },
  {
   "cell_type": "code",
   "execution_count": 78,
   "metadata": {},
   "outputs": [
    {
     "data": {
      "text/plain": [
       "Text(0.5, 1.0, 'Feature importance using Ridge Model')"
      ]
     },
     "execution_count": 78,
     "metadata": {},
     "output_type": "execute_result"
    },
    {
     "data": {
      "image/png": "[encoded data removed]",
      "text/plain": [
       "<Figure size 576x720 with 1 Axes>"
      ]
     },
     "metadata": {
      "needs_background": "light"
     },
     "output_type": "display_data"
    }
   ],
   "source": [
    "ridge_coef = ridge_coef.sort_values()\n",
    "import matplotlib\n",
    "matplotlib.rcParams['figure.figsize'] = (8.0, 10.0)\n",
    "ridge_coef.plot(kind = \"barh\")\n",
    "plt.title(\"Feature importance using Ridge Model\")"
   ]
  },
  {
   "cell_type": "code",
   "execution_count": null,
   "metadata": {},
   "outputs": [],
   "source": [
    "INFERENCE : Ridge model has taken only Income feature into consideration\n",
    "State', 'Response',EmploymentStatus,Marital Status,Number of Open Complaints', 'Number of Policies', 'Policy Type',\n",
    "       'Policy', 'Renew Offer Type', 'Sales Channel', 'Vehicle Class','Monthly Premium Auto_boxcox',\n",
    "    \n",
    "    \n",
    "['Response', 'EmploymentStatus', 'Number of Open Complaints', 'Number of Policies', 'Policy Type', 'Renew Offer Type', 'Vehicle Class', 'Monthly Premium Auto_boxcox']"
   ]
  },
  {
   "cell_type": "code",
   "execution_count": null,
   "metadata": {},
   "outputs": [],
   "source": [
    "[0, 1, 4, 8, 11, 12, 13, 14, 15, 16, 17, 19]\n",
    "Index(['State', 'Response', 'Coverage', 'Education', 'EmploymentStatus',\n",
    "       'Gender', 'Income', 'Location Code', 'Marital Status',\n",
    "       'Months Since Last Claim', 'Months Since Policy Inception',\n",
    "       'Number of Open Complaints', 'Number of Policies', 'Policy Type',\n",
    "       'Policy', 'Renew Offer Type', 'Sales Channel', 'Vehicle Class',\n",
    "       'Vehicle Size', 'Monthly Premium Auto_boxcox',\n",
    "       'Total Claim Amount_boxcox'],\n",
    "      dtype='object')"
   ]
  },
  {
   "cell_type": "code",
   "execution_count": null,
   "metadata": {},
   "outputs": [],
   "source": [
    "\n",
    "'State', 'Response',EmploymentStatus,Marital Status,Number of Open Complaints', 'Number of Policies', 'Policy Type',\n",
    "       'Policy', 'Renew Offer Type', 'Sales Channel', 'Vehicle Class','Monthly Premium Auto_boxcox',"
   ]
  },
  {
   "cell_type": "code",
   "execution_count": 108,
   "metadata": {},
   "outputs": [
    {
     "data": {
      "text/plain": [
       "21"
      ]
     },
     "execution_count": 108,
     "metadata": {},
     "output_type": "execute_result"
    }
   ],
   "source": [
    "imp=[ 5,  1,  2 , 3  ,1,  1, 12 , 9 , 7  ,8 ,11  ,1 , 1  ,1  ,4 , 1 , 6,  1,  1,  1, 10]\n",
    "len(imp)"
   ]
  },
  {
   "cell_type": "code",
   "execution_count": 102,
   "metadata": {},
   "outputs": [],
   "source": [
    "cols=X.columns"
   ]
  },
  {
   "cell_type": "code",
   "execution_count": 118,
   "metadata": {},
   "outputs": [
    {
     "data": {
      "text/plain": [
       "<zip at 0x2659ecfc7c8>"
      ]
     },
     "execution_count": 118,
     "metadata": {},
     "output_type": "execute_result"
    }
   ],
   "source": [
    "imp=[ 5,  1,  2 , 3  ,1,  1, 12 , 9 , 7  ,8 ,11  ,1 , 1  ,1  ,4 , 1 , 6,  1,  1,  1, 10]\n",
    "\n",
    "zip(imp,cols)\n"
   ]
  },
  {
   "cell_type": "code",
   "execution_count": 123,
   "metadata": {},
   "outputs": [
    {
     "data": {
      "text/plain": [
       "defaultdict(list,\n",
       "            {'State': [5],\n",
       "             'Response': [1],\n",
       "             'Coverage': [2],\n",
       "             'Education': [3],\n",
       "             'EmploymentStatus': [1],\n",
       "             'Gender': [1],\n",
       "             'Income': [12],\n",
       "             'Location Code': [9],\n",
       "             'Marital Status': [7],\n",
       "             'Months Since Last Claim': [8],\n",
       "             'Months Since Policy Inception': [11],\n",
       "             'Number of Open Complaints': [1],\n",
       "             'Number of Policies': [1],\n",
       "             'Policy Type': [1],\n",
       "             'Policy': [4],\n",
       "             'Renew Offer Type': [1],\n",
       "             'Sales Channel': [6],\n",
       "             'Vehicle Class': [1],\n",
       "             'Vehicle Size': [1],\n",
       "             'Monthly Premium Auto_boxcox': [1],\n",
       "             'Total Claim Amount_boxcox': [10]})"
      ]
     },
     "execution_count": 123,
     "metadata": {},
     "output_type": "execute_result"
    }
   ],
   "source": [
    "from collections import defaultdict\n",
    "imp=[ 5,  1,  2 , 3  ,1,  1, 12 , 9 , 7  ,8 ,11  ,1 , 1  ,1  ,4 , 1 , 6,  1,  1,  1, 10]\n",
    "cols=list(X.columns)\n",
    "my_dict = defaultdict(list)\n",
    "for k, v in zip(cols, imp):\n",
    "    my_dict[k].append(v)\n",
    "my_dict"
   ]
  },
  {
   "cell_type": "code",
   "execution_count": 124,
   "metadata": {},
   "outputs": [],
   "source": [
    "li=['State', 'Response','EmploymentStatus','Marital Status','Number of Open Complaints', 'Number of Policies', 'Policy Type','Gender'\n",
    "       'Policy', 'Renew Offer Type', 'Sales Channel', 'Vehicle Class','Monthly Premium Auto_boxcox','Vehicle Size']\n",
    "    "
   ]
  },
  {
   "cell_type": "raw",
   "metadata": {},
   "source": [
    "Now make models using li\n",
    "***  Now proof above features using Statistical Methods *** "
   ]
  },
  {
   "cell_type": "code",
   "execution_count": null,
   "metadata": {},
   "outputs": [],
   "source": [
    "Education\n",
    "EmploymentStatus\n",
    "Income\n",
    "Marital Status\n",
    "Months Since Last Claim\n",
    "Months Since Policy Inception\n",
    "Number of Open Complaints\n",
    "Number of Policies\n",
    "Renew Offer Type\n",
    "Vehicle Class\n",
    "Vehicle Size\n",
    "Customer Lifetime Value_boxcox\n",
    "Monthly Premium Auto_boxcox\n",
    "Total Claim Amount_boxcox"
   ]
  },
  {
   "cell_type": "code",
   "execution_count": 6,
   "metadata": {},
   "outputs": [
    {
     "data": {
      "text/plain": [
       "ExtraTreesRegressor(bootstrap=False, ccp_alpha=0.0, criterion='mse',\n",
       "                    max_depth=None, max_features='auto', max_leaf_nodes=None,\n",
       "                    max_samples=None, min_impurity_decrease=0.0,\n",
       "                    min_impurity_split=None, min_samples_leaf=1,\n",
       "                    min_samples_split=2, min_weight_fraction_leaf=0.0,\n",
       "                    n_estimators=250, n_jobs=None, oob_score=False,\n",
       "                    random_state=0, verbose=0, warm_start=False)"
      ]
     },
     "execution_count": 6,
     "metadata": {},
     "output_type": "execute_result"
    }
   ],
   "source": [
    "# Build a forest and compute the feature importances\n",
    "forest = ExtraTreesRegressor(n_estimators=250,\n",
    "                              random_state=0)\n",
    "forest.fit(X, y)"
   ]
  },
  {
   "cell_type": "code",
   "execution_count": 7,
   "metadata": {},
   "outputs": [
    {
     "name": "stdout",
     "output_type": "stream",
     "text": [
      "Feature ranking:\n",
      "1. feature 12 (0.683495)\n",
      "2. feature 19 (0.174368)\n",
      "3. feature 17 (0.038792)\n",
      "4. feature 2 (0.019778)\n",
      "5. feature 4 (0.009073)\n",
      "6. feature 20 (0.006410)\n",
      "7. feature 1 (0.006188)\n",
      "8. feature 9 (0.006056)\n",
      "9. feature 10 (0.005811)\n",
      "10. feature 11 (0.005544)\n",
      "11. feature 15 (0.005282)\n",
      "12. feature 8 (0.005150)\n",
      "13. feature 6 (0.005004)\n",
      "14. feature 3 (0.004978)\n",
      "15. feature 16 (0.004672)\n",
      "16. feature 0 (0.004108)\n",
      "17. feature 18 (0.003648)\n",
      "18. feature 14 (0.003512)\n",
      "19. feature 5 (0.003110)\n",
      "20. feature 7 (0.002841)\n",
      "21. feature 13 (0.002181)\n"
     ]
    },
    {
     "data": {
      "image/png": "[encoded data removed]",
      "text/plain": [
       "<Figure size 432x288 with 1 Axes>"
      ]
     },
     "metadata": {
      "needs_background": "light"
     },
     "output_type": "display_data"
    }
   ],
   "source": [
    "\n",
    "importances = forest.feature_importances_\n",
    "std = np.std([tree.feature_importances_ for tree in forest.estimators_],\n",
    "             axis=0)\n",
    "indices = np.argsort(importances)[::-1]\n",
    "\n",
    "# Print the feature ranking\n",
    "print(\"Feature ranking:\")\n",
    "\n",
    "for f in range(X.shape[1]):\n",
    "    print(\"%d. feature %d (%f)\" % (f + 1, indices[f], importances[indices[f]]))\n",
    "\n",
    "# Plot the feature importances of the forest\n",
    "plt.figure()\n",
    "plt.title(\"Feature importances\")\n",
    "plt.bar(range(X.shape[1]), importances[indices],\n",
    "       color=\"r\", yerr=std[indices], align=\"center\")\n",
    "plt.xticks(range(X.shape[1]), indices)\n",
    "plt.xlim([-1, X.shape[1]])\n",
    "plt.show()"
   ]
  },
  {
   "cell_type": "code",
   "execution_count": 9,
   "metadata": {},
   "outputs": [],
   "source": [
    "li=X.columns"
   ]
  },
  {
   "cell_type": "code",
   "execution_count": 12,
   "metadata": {},
   "outputs": [
    {
     "data": {
      "text/plain": [
       "('Vehicle Class', 'Number of Policies', 'Monthly Premium Auto_boxcox')"
      ]
     },
     "execution_count": 12,
     "metadata": {},
     "output_type": "execute_result"
    }
   ],
   "source": [
    "li[17],li[12],li[19]"
   ]
  },
  {
   "cell_type": "code",
   "execution_count": 17,
   "metadata": {},
   "outputs": [
    {
     "data": {
      "text/plain": [
       "'Vehicle Size'"
      ]
     },
     "execution_count": 17,
     "metadata": {},
     "output_type": "execute_result"
    }
   ],
   "source": [
    "li[18]"
   ]
  },
  {
   "cell_type": "code",
   "execution_count": null,
   "metadata": {},
   "outputs": [],
   "source": []
  }
 ],
 "metadata": {
  "kernelspec": {
   "display_name": "Python 3",
   "language": "python",
   "name": "python3"
  },
  "language_info": {
   "codemirror_mode": {
    "name": "ipython",
    "version": 3
   },
   "file_extension": ".py",
   "mimetype": "text/x-python",
   "name": "python",
   "nbconvert_exporter": "python",
   "pygments_lexer": "ipython3",
   "version": "3.7.4"
  }
 },
 "nbformat": 4,
 "nbformat_minor": 2
}
